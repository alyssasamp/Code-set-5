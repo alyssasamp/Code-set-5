{
 "cells": [
  {
   "cell_type": "markdown",
   "id": "0fc00f1c",
   "metadata": {},
   "source": [
    "## Code Set 5 "
   ]
  },
  {
   "cell_type": "markdown",
   "id": "cf724105",
   "metadata": {},
   "source": [
    "## Algorithm workbench Problem 1- TimesTen\n",
    "#I need to name it times_ten and have it display the product of the argument then multiply that by 10. "
   ]
  },
  {
   "cell_type": "code",
   "execution_count": 1,
   "id": "3f5cf58a",
   "metadata": {},
   "outputs": [
    {
     "name": "stdout",
     "output_type": "stream",
     "text": [
      "60\n"
     ]
    }
   ],
   "source": [
    "#We first have to define the function by using def and the name which is times_ten\n",
    "def times_ten(num):\n",
    "    #Put num in parenthesis because that is where the number will go to make code work \n",
    "    #Set num equal to the num multiplied by 10 \n",
    "    num = num * 10\n",
    "    #Using print function to print the number used after getting multiplied \n",
    "    print(num)\n",
    "#I now need to call the function by writing times_ten and then I will add a number into it to see if it works\n",
    "times_ten(6)"
   ]
  },
  {
   "cell_type": "markdown",
   "id": "b15e2b7e",
   "metadata": {},
   "source": [
    "## Alogrithm workbench problem 2- Calling the functio#\n",
    "#This problem gives me def show_value(quantity) as a function header and wants me to call the function and have it pass 12 as an argument "
   ]
  },
  {
   "cell_type": "code",
   "execution_count": 20,
   "id": "83c033b7",
   "metadata": {},
   "outputs": [
    {
     "name": "stdout",
     "output_type": "stream",
     "text": [
      "The value is 12\n"
     ]
    }
   ],
   "source": [
    "#Starting off with what the problem already gave me \n",
    "def show_value(quantity):\n",
    "    #Used the print function to clear it is passing 12 as the argument \n",
    "    print('The value is', quantity)\n",
    "    \n",
    "  #Now I need to call it and enter 12   \n",
    "show_value(12)"
   ]
  },
  {
   "cell_type": "markdown",
   "id": "9485d56c",
   "metadata": {},
   "source": [
    "## Programming Exercise -Problem 1- Kilometer Converter \n",
    "#THis problem asks to enter a distance in kilometers, then uses a function to convert thst distance into miles, given the conversion formula is Miles=Kilometers * 0.6214"
   ]
  },
  {
   "cell_type": "code",
   "execution_count": 27,
   "id": "abf5b143",
   "metadata": {},
   "outputs": [
    {
     "name": "stdout",
     "output_type": "stream",
     "text": [
      "Enter distance in kilometers:44\n",
      "Distance in miles is:  27.3416\n"
     ]
    }
   ],
   "source": [
    "#HAve them enter a number of kilometers \n",
    "km = float(input('Enter distance in kilometers:'))\n",
    "#Need to write formula of conversion so that the number typed in that equals km will get multiplied by .6214\n",
    "miles = km *0.6214\n",
    "#This will print the distance in miles \n",
    "print(\"Distance in miles is: \", miles)"
   ]
  },
  {
   "cell_type": "markdown",
   "id": "495caae6",
   "metadata": {},
   "source": [
    "## Problem 16- Prime Numbers\n",
    "#This asks to write a boolean function named is_prime which will return true if it is a prime number or false if it is not, the code has to ask them to enter a number and display whether it is true or false. "
   ]
  },
  {
   "cell_type": "code",
   "execution_count": null,
   "id": "ceedc2ba",
   "metadata": {},
   "outputs": [],
   "source": [
    "#Start out by naming it, n stands for number \n",
    "def is_prime(n):\n",
    "    #This makes sure number is positive \n",
    "    if n > 1:\n",
    "        #Using for i in range to represent 2 to whatever number that gets typed in (n)\n",
    "        for i in range(2,n):\n",
    "            if (n % i) == 0 \n",
    "            #Above statement checks to see if there is no remainder, if that is true then it will now display false\n",
    "            #If there is no remainder the number is not prime (false)\n",
    "                return false \n",
    "            #If so, it is a prime number and it will return as true \n",
    "        return true \n",
    "    else: return false \n",
    "n = int(input(\"Enter a number: \"))\n",
    "#This is where they are able to enter in a number/integer \n",
    "#Finishing it off with printing the ending answer \n",
    "print(is_prime(n))"
   ]
  }
 ],
 "metadata": {
  "kernelspec": {
   "display_name": "Python 3 (ipykernel)",
   "language": "python",
   "name": "python3"
  },
  "language_info": {
   "codemirror_mode": {
    "name": "ipython",
    "version": 3
   },
   "file_extension": ".py",
   "mimetype": "text/x-python",
   "name": "python",
   "nbconvert_exporter": "python",
   "pygments_lexer": "ipython3",
   "version": "3.10.9"
  }
 },
 "nbformat": 4,
 "nbformat_minor": 5
}
