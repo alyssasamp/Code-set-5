{
 "cells": [
  {
   "cell_type": "markdown",
   "id": "18fe541f",
   "metadata": {},
   "source": [
    "## Code Set 5 "
   ]
  },
  {
   "cell_type": "markdown",
   "id": "07996699",
   "metadata": {},
   "source": [
    "## Algorithm workbench Problem 1- TimesTen\n",
    "#I need to name it times_ten and have it display the product of the argument then multiply that by 10. "
   ]
  },
  {
   "cell_type": "code",
   "execution_count": 1,
   "id": "c68b6168",
   "metadata": {},
   "outputs": [
    {
     "name": "stdout",
     "output_type": "stream",
     "text": [
      "60\n"
     ]
    }
   ],
   "source": [
    "#We first have to define the function by using def and the name which is times_ten\n",
    "def times_ten(num):\n",
    "    #Put num in parenthesis because that is where the number will go to make code work \n",
    "    #Set num equal to the num multiplied by 10 \n",
    "    num = num * 10\n",
    "    #Using print function to print the number used after getting multiplied \n",
    "    print(num)\n",
    "#I now need to call the function by writing times_ten and then I will add a number into it to see if it works\n",
    "times_ten(6)"
   ]
  },
  {
   "cell_type": "markdown",
   "id": "7aeeef2d",
   "metadata": {},
   "source": [
    "## Alogrithm workbench problem 2- Calling the functio#\n",
    "#This problem gives me def show_value(quantity) as a function header and wants me to call the function and have it pass 12 as an argument "
   ]
  },
  {
   "cell_type": "code",
   "execution_count": 20,
   "id": "0cf27dd3",
   "metadata": {},
   "outputs": [
    {
     "name": "stdout",
     "output_type": "stream",
     "text": [
      "The value is 12\n"
     ]
    }
   ],
   "source": [
    "#Starting off with what the problem already gave me \n",
    "def show_value(quantity):\n",
    "    #Used the print function to clear it is passing 12 as the argument \n",
    "    print('The value is', quantity)\n",
    "    \n",
    "  #Now I need to call it and enter 12   \n",
    "show_value(12)"
   ]
  },
  {
   "cell_type": "markdown",
   "id": "00fa32e8",
   "metadata": {},
   "source": [
    "## Programming Exercise -Problem 1- Kilometer Converter \n",
    "#THis problem asks to enter a distance in kilometers, then uses a function to convert thst distance into miles, given the conversion formula is Miles=Kilometers * 0.6214"
   ]
  },
  {
   "cell_type": "code",
   "execution_count": 27,
   "id": "838b7105",
   "metadata": {},
   "outputs": [
    {
     "name": "stdout",
     "output_type": "stream",
     "text": [
      "Enter distance in kilometers:44\n",
      "Distance in miles is:  27.3416\n"
     ]
    }
   ],
   "source": [
    "#HAve them enter a number of kilometers \n",
    "km = float(input('Enter distance in kilometers:'))\n",
    "#Need to write formula of conversion so that the number typed in that equals km will get multiplied by .6214\n",
    "miles = km *0.6214\n",
    "#This will print the distance in miles \n",
    "print(\"Distance in miles is: \", miles)"
   ]
  },
  {
   "cell_type": "markdown",
   "id": "e4aabdfb",
   "metadata": {},
   "source": [
    "## Problem 16- Prime Numbers\n",
    "#This asks to write a boolean function named is_prime which will return true if it is a prime number or false if it is not, the code has to ask them to enter a number and display whether it is true or false. "
   ]
  },
  {
   "cell_type": "code",
   "execution_count": 32,
   "id": "84b742f9",
   "metadata": {},
   "outputs": [
    {
     "name": "stdout",
     "output_type": "stream",
     "text": [
      "Enter a number: 6\n",
      "False\n"
     ]
    }
   ],
   "source": [
    "#Start out by naming it, n stands for number \n",
    "def is_prime(n):\n",
    "    #This makes sure number is positive \n",
    "    if n > 1:\n",
    "        #Using for i in range to represent 2 to whatever number that gets typed in (n)\n",
    "        for i in range(2,n):\n",
    "            if (n % i) == 0 : \n",
    "            #Above statement checks to see if there is no remainder, if that is true then it will now display false\n",
    "            #If there is no remainder the number is not prime (false)\n",
    "                return False \n",
    "            #If so, it is a prime number and it will return as true \n",
    "        return True \n",
    "    else: return False \n",
    "n = int(input(\"Enter a number: \"))\n",
    "#This is where they are able to enter in a number/integer \n",
    "#Finishing it off with printing the ending answer \n",
    "print(is_prime(n))"
   ]
  },
  {
   "cell_type": "markdown",
   "id": "d281ad1b",
   "metadata": {},
   "source": [
    "## Problem 17- Prime Number List \n",
    "#This is an addition to the problem above, asking to write a program displaying all prime numbers from 1 to 100, which will also have a loop that calls the is_prime function. "
   ]
  },
  {
   "cell_type": "code",
   "execution_count": 34,
   "id": "3203b7b1",
   "metadata": {},
   "outputs": [
    {
     "name": "stdout",
     "output_type": "stream",
     "text": [
      "Prime numbers from 1 to 100\n",
      "2\n",
      "3\n",
      "5\n",
      "7\n",
      "11\n",
      "13\n",
      "17\n",
      "19\n",
      "23\n",
      "29\n",
      "31\n",
      "37\n",
      "41\n",
      "43\n",
      "47\n",
      "53\n",
      "59\n",
      "61\n",
      "67\n",
      "71\n",
      "73\n",
      "79\n",
      "83\n",
      "89\n",
      "97\n"
     ]
    }
   ],
   "source": [
    "#Copying code from above before adding on using a new code \n",
    "def is_prime(n):\n",
    "    if n > 1:\n",
    "        for i in range(2,n):\n",
    "            if (n % i) == 0 :\n",
    "                return False \n",
    "        return True\n",
    "    else: return False \n",
    "#NEW CODE: using print to display the prime numbers from 1 to 100 \n",
    "print(\"Prime numbers from 1 to 100\")\n",
    "#Using for i in range to represent numbers 1 through 100, using 101 since it doesn't include the last number\n",
    "for i in range(1,101):\n",
    "    #calling function by using is_prime with parenthesis \n",
    "    if(is_prime(i)==True):\n",
    "        print(i)"
   ]
  },
  {
   "cell_type": "markdown",
   "id": "c1a7d398",
   "metadata": {},
   "source": [
    "## Problem 9- Feet to Inches \n",
    "#This problem asks to name a function feet_to_inches and takes a number typed in and turns it into number of inches in that many feet. "
   ]
  },
  {
   "cell_type": "code",
   "execution_count": 1,
   "id": "7a94ffb6",
   "metadata": {},
   "outputs": [
    {
     "name": "stdout",
     "output_type": "stream",
     "text": [
      "Enter number in feet: 10\n",
      "Inches:  120.0\n"
     ]
    }
   ],
   "source": [
    "#Start off by calling the function, using \"f\" to stand for feet it will be in\n",
    "def feet_to_inch(f):\n",
    "    #Equation is multiplying number by 12, so once number is accepted it will get multipled\n",
    "    return f * 12 \n",
    "#Allowing them to type in a number using float and input \n",
    "f=float(input(\"Enter number in feet: \"))\n",
    "#Ending it off using print to display the ending answer \n",
    "print(\"Inches: \",feet_to_inch(f))"
   ]
  },
  {
   "cell_type": "code",
   "execution_count": null,
   "id": "190d4fbe",
   "metadata": {},
   "outputs": [],
   "source": []
  }
 ],
 "metadata": {
  "kernelspec": {
   "display_name": "Python 3 (ipykernel)",
   "language": "python",
   "name": "python3"
  },
  "language_info": {
   "codemirror_mode": {
    "name": "ipython",
    "version": 3
   },
   "file_extension": ".py",
   "mimetype": "text/x-python",
   "name": "python",
   "nbconvert_exporter": "python",
   "pygments_lexer": "ipython3",
   "version": "3.10.9"
  }
 },
 "nbformat": 4,
 "nbformat_minor": 5
}
