{
 "cells": [
  {
   "cell_type": "markdown",
   "id": "c68142c5",
   "metadata": {},
   "source": [
    "## Code Set 5 "
   ]
  },
  {
   "cell_type": "markdown",
   "id": "4f68a6ee",
   "metadata": {},
   "source": [
    "## Algorithm workbench Problem 1- TimesTen\n",
    "#I need to name it times_ten and have it display the product of the argument then multiply that by 10. "
   ]
  },
  {
   "cell_type": "code",
   "execution_count": 1,
   "id": "a6dc5b48",
   "metadata": {},
   "outputs": [
    {
     "name": "stdout",
     "output_type": "stream",
     "text": [
      "60\n"
     ]
    }
   ],
   "source": [
    "#We first have to define the function by using def and the name which is times_ten\n",
    "def times_ten(num):\n",
    "    #Put num in parenthesis because that is where the number will go to make code work \n",
    "    #Set num equal to the num multiplied by 10 \n",
    "    num = num * 10\n",
    "    #Using print function to print the number used after getting multiplied \n",
    "    print(num)\n",
    "#I now need to call the function by writing times_ten and then I will add a number into it to see if it works\n",
    "times_ten(6)"
   ]
  },
  {
   "cell_type": "markdown",
   "id": "8cd90d44",
   "metadata": {},
   "source": [
    "## Alogrithm workbench problem 2- Calling the functio#\n",
    "#This problem gives me def show_value(quantity) as a function header and wants me to call the function and have it pass 12 as an argument "
   ]
  },
  {
   "cell_type": "code",
   "execution_count": 20,
   "id": "59f21208",
   "metadata": {},
   "outputs": [
    {
     "name": "stdout",
     "output_type": "stream",
     "text": [
      "The value is 12\n"
     ]
    }
   ],
   "source": [
    "#Starting off with what the problem already gave me \n",
    "def show_value(quantity):\n",
    "    #Used the print function to clear it is passing 12 as the argument \n",
    "    print('The value is', quantity)\n",
    "    \n",
    "  #Now I need to call it and enter 12   \n",
    "show_value(12)"
   ]
  },
  {
   "cell_type": "code",
   "execution_count": null,
   "id": "1cb993fb",
   "metadata": {},
   "outputs": [],
   "source": []
  }
 ],
 "metadata": {
  "kernelspec": {
   "display_name": "Python 3 (ipykernel)",
   "language": "python",
   "name": "python3"
  },
  "language_info": {
   "codemirror_mode": {
    "name": "ipython",
    "version": 3
   },
   "file_extension": ".py",
   "mimetype": "text/x-python",
   "name": "python",
   "nbconvert_exporter": "python",
   "pygments_lexer": "ipython3",
   "version": "3.10.9"
  }
 },
 "nbformat": 4,
 "nbformat_minor": 5
}
