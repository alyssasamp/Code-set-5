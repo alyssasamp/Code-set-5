{
 "cells": [
  {
   "cell_type": "markdown",
   "id": "ef51b539",
   "metadata": {},
   "source": [
    "## Code Set 5 "
   ]
  },
  {
   "cell_type": "markdown",
   "id": "ca61b7f4",
   "metadata": {},
   "source": [
    "## Algorithm workbench Problem 1- TimesTen\n",
    "#I need to name it times_ten and have it display the product of the argument then multiply that by 10. "
   ]
  },
  {
   "cell_type": "code",
   "execution_count": 1,
   "id": "d540bdaf",
   "metadata": {},
   "outputs": [
    {
     "name": "stdout",
     "output_type": "stream",
     "text": [
      "60\n"
     ]
    }
   ],
   "source": [
    "#We first have to define the function by using def and the name which is times_ten\n",
    "def times_ten(num):\n",
    "    #Put num in parenthesis because that is where the number will go to make code work \n",
    "    #Set num equal to the num multiplied by 10 \n",
    "    num = num * 10\n",
    "    #Using print function to print the number used after getting multiplied \n",
    "    print(num)\n",
    "#I now need to call the function by writing times_ten and then I will add a number into it to see if it works\n",
    "times_ten(6)"
   ]
  },
  {
   "cell_type": "code",
   "execution_count": null,
   "id": "77e742d2",
   "metadata": {},
   "outputs": [],
   "source": []
  }
 ],
 "metadata": {
  "kernelspec": {
   "display_name": "Python 3 (ipykernel)",
   "language": "python",
   "name": "python3"
  },
  "language_info": {
   "codemirror_mode": {
    "name": "ipython",
    "version": 3
   },
   "file_extension": ".py",
   "mimetype": "text/x-python",
   "name": "python",
   "nbconvert_exporter": "python",
   "pygments_lexer": "ipython3",
   "version": "3.10.9"
  }
 },
 "nbformat": 4,
 "nbformat_minor": 5
}
